{
 "cells": [
  {
   "cell_type": "code",
   "execution_count": null,
   "id": "ce6b8fe2",
   "metadata": {},
   "outputs": [],
   "source": [
    "import requests\n",
    "from bs4 import BeautifulSoup\n",
    "\n",
    "def get_soup(target_url):\n",
    "    # html 소스 가져오고 파싱하기\n",
    "    res = requests.get(target_url)\n",
    "    soup = BeautifulSoup(res.text, 'lxml')\n",
    "    return soup\n",
    "    \n",
    "\n",
    "def extract_data(soup):\n",
    "    # 레시피 이름 출력\n",
    "    ul = soup.find('ul', class_=\"common_sp_list_ul\")\n",
    "    li_list = ul.find_all('li')\n",
    "    for li in li_list:\n",
    "        print(li.find('div', attrs={'class': 'common_sp_caption_tit'}).string)\n",
    "    \n",
    "    \n",
    "for i in range(1, 4416):\n",
    "    url = \"https://www.10000recipe.com/recipe/list.html?order=reco&page={}\".format(i)\n",
    "    soup = get_soup(url)\n",
    "    extract_data(soup)"
   ]
  }
 ],
 "metadata": {
  "kernelspec": {
   "display_name": "Python 3 (ipykernel)",
   "language": "python",
   "name": "python3"
  },
  "language_info": {
   "codemirror_mode": {
    "name": "ipython",
    "version": 3
   },
   "file_extension": ".py",
   "mimetype": "text/x-python",
   "name": "python",
   "nbconvert_exporter": "python",
   "pygments_lexer": "ipython3",
   "version": "3.10.3"
  }
 },
 "nbformat": 4,
 "nbformat_minor": 5
}
